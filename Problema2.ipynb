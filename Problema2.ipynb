{
 "cells": [
  {
   "cell_type": "markdown",
   "metadata": {},
   "source": [
    "# Problema2 - REALIZAR SOBRE ARCHIVO .PY  (NO JUPYTER) \n",
    "\n",
    "\n",
    "Lea el archivo 'winemag-data-130k-v2.csv' y realice lo siguiente:\n",
    "\n",
    "- Explore el dataframe según lo visto en clase\n",
    "- Realice al menos  4 renombre de columna y 3 creación de nuevas columnas según criterio. Deberá crear las columnas que crea conveniente. \n",
    "    Ejemplo: Según el país etiquetelos según continente.\n",
    "\n",
    "- Genere 4 reportes distintos(podria agrupando, filtrar, ordenar, etc). Deberá elegir que reportes realizar\n",
    "    - Ejemplo: Por contienente mostrar los vinos mejor puntuados\n",
    "    - Ejemplo2: Promedio de precio de vino y cantidad de reviews obtenidos según pais. Ordenado de mejor a peor.\n",
    "\n",
    "\n",
    "\n",
    "- Exporte los 4 reportes a 4 formatos de archivos diversos, csv, excel, sqllite, mongodb...\n",
    "   \n",
    "   Para guardar datos de datos agrupados, puede revisar esta solución https://stackoverflow.com/questions/25789264/pandas-dataframegroupby-export-to-excel\n",
    "\n",
    "- Envie uno de los reportes generados por correo, mostrar un pantallazo del correo enviado\n",
    "\n",
    "\n",
    "\n",
    "\n",
    "### Datos \n",
    "\n",
    "winemag-data-130k-v2.csv\n",
    "- https://github.com/gdelgador/ProgramacionPython202401/blob/main/Modulo5/src/winemag-data-130k-v2.csv\n",
    "\n",
    "País según continente:\n",
    "- https://gist.githubusercontent.com/kintero/7d1db891401f56256c79/raw/a61f6d0dda82c3f04d2e6e76c3870552ef6cf0c6/paises.csv\n",
    " \n",
    "\n",
    "\n",
    "\n",
    "\n"
   ]
  },
  {
   "cell_type": "code",
   "execution_count": 2,
   "metadata": {},
   "outputs": [
    {
     "name": "stdout",
     "output_type": "stream",
     "text": [
      "Index(['Unnamed: 0', 'country', 'description', 'designation', 'points',\n",
      "       'price', 'province', 'region_1', 'region_2', 'taster_name',\n",
      "       'taster_twitter_handle', 'title', 'variety', 'winery'],\n",
      "      dtype='object')\n"
     ]
    }
   ],
   "source": [
    "import pandas as pd\n",
    "\n",
    "df = pd.read_csv(\"data/winemag-data-130k-v2.csv\")\n",
    "print(df.columns)\n",
    "df.head()\n",
    "\n",
    "# Renombrar columnas\n",
    "df = df.rename(columns={\n",
    "    \"country\": \"pais\",\n",
    "    \"description\": \"descripcion\",\n",
    "    \"points\": \"puntos\",\n",
    "    \"price\": \"precio\"\n",
    "})\n",
    "\n",
    "# Crear columnas nuevas\n",
    "df[\"caro\"] = df[\"precio\"] > 50\n",
    "df[\"barato\"] = df[\"precio\"] < 20\n",
    "df[\"calidad_precio\"] = df[\"puntos\"] / df[\"precio\"]\n",
    "\n",
    "# Reporte 1: Vinos mejor puntuados por país\n",
    "reporte1 = df.groupby(\"pais\")[\"puntos\"].mean().sort_values(ascending=False)\n",
    "\n",
    "# Reporte 2: Precio promedio y número de reviews por país\n",
    "reporte2 = df.groupby(\"pais\").agg({\"precio\": \"mean\", \"taster_name\": \"count\"}).sort_values(by=\"precio\", ascending=False)\n",
    "\n",
    "# Exportar CSV\n",
    "reporte1.to_csv(\"reporte1.csv\")\n",
    "reporte2.to_csv(\"reporte2.csv\")\n",
    "\n",
    "# Exportar Excel\n",
    "reporte1.to_excel(\"reporte1.xlsx\")\n",
    "\n",
    "# Exportar SQLite\n",
    "import sqlite3\n",
    "conn = sqlite3.connect(\"vinos.db\")\n",
    "reporte2.to_sql(\"resumen\", conn, if_exists=\"replace\")\n",
    "conn.close()\n",
    "\n"
   ]
  },
  {
   "cell_type": "code",
   "execution_count": null,
   "metadata": {},
   "outputs": [],
   "source": []
  }
 ],
 "metadata": {
  "kernelspec": {
   "display_name": "Python 3",
   "language": "python",
   "name": "python3"
  },
  "language_info": {
   "codemirror_mode": {
    "name": "ipython",
    "version": 3
   },
   "file_extension": ".py",
   "mimetype": "text/x-python",
   "name": "python",
   "nbconvert_exporter": "python",
   "pygments_lexer": "ipython3",
   "version": "3.12.1"
  }
 },
 "nbformat": 4,
 "nbformat_minor": 2
}
